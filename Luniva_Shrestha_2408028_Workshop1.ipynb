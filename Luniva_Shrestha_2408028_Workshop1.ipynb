{
  "cells": [
    {
      "cell_type": "code",
      "execution_count": null,
      "metadata": {
        "colab": {
          "base_uri": "https://localhost:8080/"
        },
        "id": "mjXipKy_aB1D",
        "outputId": "fac3d01b-0624-4e1e-eff1-eb6f082b9043"
      },
      "outputs": [
        {
          "name": "stdout",
          "output_type": "stream",
          "text": [
            "0D Array:\n",
            "5\n",
            "Shape: ()\n",
            "\n",
            "1D Array:\n",
            "[1 2 3 4 5]\n",
            "Shape: (5,)\n",
            "\n",
            "2D Array:\n",
            "[[1 2 3]\n",
            " [4 5 6]]\n",
            "Shape: (2, 3)\n",
            "\n",
            "3D Array:\n",
            "[[[1 2]\n",
            "  [3 4]]\n",
            "\n",
            " [[5 6]\n",
            "  [7 8]]]\n",
            "Shape: (2, 2, 2)\n",
            "\n"
          ]
        }
      ],
      "source": [
        "import numpy as np\n",
        "\n",
        "# Create arrays of different dimensions\n",
        "array_0d = np.array(5)\n",
        "array_1d = np.array([1, 2, 3, 4, 5])\n",
        "array_2d = np.array([[1, 2, 3], [4, 5, 6]])\n",
        "array_3d = np.array([[[1, 2], [3, 4]], [[5, 6], [7, 8]]])\n",
        "\n",
        "# Print arrays with shapes\n",
        "for i, arr in enumerate([array_0d, array_1d, array_2d, array_3d]):\n",
        "    print(f\"{i}D Array:\\n{arr}\\nShape: {arr.shape}\\n\")\n"
      ]
    },
    {
      "cell_type": "markdown",
      "metadata": {
        "id": "Nxilk9RnmiLJ"
      },
      "source": [
        "4.1.1"
      ]
    },
    {
      "cell_type": "code",
      "execution_count": null,
      "metadata": {
        "colab": {
          "base_uri": "https://localhost:8080/"
        },
        "id": "FGFmKVQDmxm2",
        "outputId": "db58b28a-bf32-493a-cdfe-398464a71458"
      },
      "outputs": [
        {
          "name": "stdout",
          "output_type": "stream",
          "text": [
            "1. empty array with size 2*2:  [[4.88374521e-310 0.00000000e+000]\n",
            " [0.00000000e+000 0.00000000e+000]]\n",
            "2. all one array with size 4*2:  [[1. 1.]\n",
            " [1. 1.]\n",
            " [1. 1.]\n",
            " [1. 1.]]\n",
            "3. new array of given shape and type:  [[7 7 7]\n",
            " [7 7 7]\n",
            " [7 7 7]]\n",
            "4. new arrays of zeros as same shape as a given array:  [[0 0 0]\n",
            " [0 0 0]]\n",
            "5. new array of ones as the same shape as given array:  [[1 1 1]\n",
            " [1 1 1]]\n",
            "6. NumPy array from the list: [1 2 3 4]\n"
          ]
        }
      ],
      "source": [
        "#problem 1. Array Creation:\n",
        "import numpy as np\n",
        "#empty array with size 2*2\n",
        "empty_arr= np.empty((2,2))\n",
        "print(\"1. empty array with size 2*2: \",empty_arr)\n",
        "\n",
        "ones_array= np.ones((4,2))\n",
        "print(\"2. all one array with size 4*2: \",ones_array)\n",
        "\n",
        "fill_value= np.full((3,3),7)\n",
        "print(\"3. new array of given shape and type: \",fill_value)\n",
        "\n",
        "given_array= np.array([[1,2,3],[3,4,5]])\n",
        "zeros_like_array=np.zeros_like(given_array)\n",
        "print(\"4. new arrays of zeros as same shape as a given array: \", zeros_like_array)\n",
        "\n",
        "zeros_like_array=np.ones_like(given_array)\n",
        "print(\"5. new array of ones as the same shape as given array: \",zeros_like_array)\n",
        "\n",
        "new_list=[1,2,3,4]\n",
        "numpy_array= np.array(new_list)\n",
        "print(\"6. List converted to numpy:\", numpy_array)\n"
      ]
    },
    {
      "cell_type": "code",
      "execution_count": null,
      "metadata": {
        "colab": {
          "base_uri": "https://localhost:8080/"
        },
        "id": "pu84iKyprW6F",
        "outputId": "266ce20a-f455-4562-ce97-0877b530123b"
      },
      "outputs": [
        {
          "name": "stdout",
          "output_type": "stream",
          "text": [
            "1. an array with values from 10 to 49: [10 11 12 13 14 15 16 17 18 19 20 21 22 23 24 25 26 27 28 29 30 31 32 33\n",
            " 34 35 36 37 38 39 40 41 42 43 44 45 46 47 48 49]\n",
            "2. 3*3 matrix with value ranging from 0 to 8: [[0 1 2]\n",
            " [3 4 5]\n",
            " [6 7 8]]\n",
            "3. identity matrix: [[1. 0. 0.]\n",
            " [0. 1. 0.]\n",
            " [0. 0. 1.]]\n",
            "4. random array of size 30: [0.82148402 0.07393629 0.33476134 0.8129496  0.49689723 0.59375227\n",
            " 0.88577902 0.96359663 0.22259103 0.68698954 0.41931882 0.31035816\n",
            " 0.17403098 0.75642499 0.42491681 0.44339252 0.83264217 0.44330306\n",
            " 0.09376649 0.72322903 0.12928511 0.83150701 0.74265491 0.42888711\n",
            " 0.22692464 0.48349339 0.81418316 0.44308521 0.0220451  0.74733288]\n",
            "mean of the array: 0.512783950607801\n",
            "5. 10*10 array with random value: [[0.76310889 0.74834342 0.41915578 0.13613133 0.6729094  0.56874891\n",
            "  0.84317157 0.95997047 0.79053933 0.37743011]\n",
            " [0.20879058 0.07756909 0.5747542  0.99019388 0.3845771  0.96209271\n",
            "  0.25591486 0.79879691 0.13352033 0.95857705]\n",
            " [0.91753074 0.32337839 0.5337435  0.97177216 0.89882979 0.36847809\n",
            "  0.44539486 0.75301454 0.68765428 0.84780525]\n",
            " [0.16728504 0.40803482 0.34021667 0.927752   0.62865406 0.20217959\n",
            "  0.79631308 0.16436155 0.88054572 0.41183501]\n",
            " [0.89900035 0.42448036 0.14342773 0.83015542 0.29452038 0.20416936\n",
            "  0.72899039 0.00349945 0.47087218 0.25865037]\n",
            " [0.92780705 0.96185287 0.65878322 0.34474492 0.08800715 0.46559795\n",
            "  0.17748356 0.57964983 0.0016632  0.12629491]\n",
            " [0.92849538 0.43063152 0.50831506 0.20522879 0.64825575 0.72252563\n",
            "  0.32793252 0.93418513 0.77534011 0.94052689]\n",
            " [0.73852439 0.5764519  0.12947781 0.58439604 0.52997575 0.34293579\n",
            "  0.55026877 0.13253468 0.97402604 0.62086801]\n",
            " [0.88186376 0.25400664 0.25106485 0.65978158 0.8376351  0.67122838\n",
            "  0.47716876 0.97129061 0.75505578 0.50164204]\n",
            " [0.08518766 0.45793736 0.88716763 0.05207577 0.803538   0.16216961\n",
            "  0.15397954 0.79506443 0.00153261 0.20776755]]\n",
            "minimum value: 0.0015326126387746886\n",
            "maximum value: 0.9901938777890874\n",
            "Array after editing: \n",
            " [0. 0. 0. 0. 1. 0. 0. 0. 0. 0.]\n",
            "Sample Array: \n",
            " [1, 2, 0, 0, 4, 0]\n",
            "Fliped Array: \n",
            " [0 4 0 0 2 1]\n",
            "Array with 1 in all border: \n",
            " [[1. 1. 1. 1. 1. 1.]\n",
            " [1. 0. 0. 0. 0. 1.]\n",
            " [1. 0. 0. 0. 0. 1.]\n",
            " [1. 0. 0. 0. 0. 1.]\n",
            " [1. 0. 0. 0. 0. 1.]\n",
            " [1. 1. 1. 1. 1. 1.]]\n",
            "Array with checkboard pattern: \n",
            " [[1. 0. 1. 0. 1. 0. 1. 0.]\n",
            " [0. 1. 0. 1. 0. 1. 0. 1.]\n",
            " [1. 0. 1. 0. 1. 0. 1. 0.]\n",
            " [0. 1. 0. 1. 0. 1. 0. 1.]\n",
            " [1. 0. 1. 0. 1. 0. 1. 0.]\n",
            " [0. 1. 0. 1. 0. 1. 0. 1.]\n",
            " [1. 0. 1. 0. 1. 0. 1. 0.]\n",
            " [0. 1. 0. 1. 0. 1. 0. 1.]]\n"
          ]
        }
      ],
      "source": [
        "#problem 2. Array Manipulation: Numerical Ranges and Array indexing:\n",
        "import numpy as np\n",
        "\n",
        "array_range=np.arange(10,50)\n",
        "print(\"1. an array with values from 10 to 49:\", array_range)\n",
        "\n",
        "matrix_range=np.arange(9).reshape((3,3))\n",
        "print(\"2. 3*3 matrix with value ranging from 0 to 8:\",matrix_range)\n",
        "\n",
        "identity_matirx=np.eye(3)\n",
        "print(\"3. identity matrix:\",identity_matirx)\n",
        "\n",
        "random_array= np.random.random(30)\n",
        "mean_value= random_array.mean()\n",
        "print(\"4. random array of size 30:\",random_array)\n",
        "print(\"mean of the array:\",mean_value)\n",
        "\n",
        "random_10=np.random.random((10,10))\n",
        "min_value= random_10.min()\n",
        "max_value= random_10.max()\n",
        "print(\"5. 10*10 array with random value:\",random_10)\n",
        "print(\"minimum value:\",min_value)\n",
        "print(\"maximum value:\",max_value)\n",
        "\n",
        "zero_array=np.zeros(10)\n",
        "zero_array[4]=1\n",
        "print(\"Array after editing: \\n\", zero_array)\n",
        "\n",
        "sample_array = [1,2,0,0,4,0]\n",
        "print(\"Sample Array: \\n\",sample_array)\n",
        "print(\"Fliped Array: \\n\",np.flip(sample_array))\n",
        "\n",
        "array = np.zeros((6, 6))\n",
        "array[0, :] = 1\n",
        "array[-1, :] = 1\n",
        "array[:, 0] = 1\n",
        "array[:, -1] = 1\n",
        "print(\"Array with 1 in all border: \\n\",array)\n",
        "\n",
        "array = np.zeros((8, 8))\n",
        "\n",
        "for i in range(8):\n",
        "    for j in range(8):\n",
        "      if ((i+ j) % 2 == 0):\n",
        "          array[i][j] = 1\n",
        "\n",
        "\n",
        "print(\"Array with checkboard pattern: \\n\",array)"
      ]
    },
    {
      "cell_type": "code",
      "execution_count": null,
      "metadata": {
        "colab": {
          "base_uri": "https://localhost:8080/",
          "height": 992
        },
        "id": "ILdhYV_pUxWy",
        "outputId": "dd710eb2-8847-4158-b08d-02f1243d8f3e"
      },
      "outputs": [
        {
          "name": "stdout",
          "output_type": "stream",
          "text": [
            "The result of sum of array x and y is: \n",
            " [[ 6  8]\n",
            " [10 13]]\n",
            "The result of sum of array v and w is: \n",
            " [20 22]\n",
            "The result of subtraction of array x and y is: \n",
            " [[-4 -4]\n",
            " [-4 -3]]\n",
            "The result of subtraction of array v and w is: \n",
            " [-2 -2]\n",
            "The result of multiplication of array x with 2 is: \n",
            " [[ 2  4]\n",
            " [ 6 10]]\n",
            "The result of multiplication of array y with 2 is: \n",
            " [[10 12]\n",
            " [14 16]]\n",
            "The result of multiplication of array v with 2 is: \n",
            " [18 20]\n",
            "The result of multiplication of array w with 2 is: \n",
            " [22 24]\n",
            "The result of square of array x is: \n",
            " [[ 1  4]\n",
            " [ 9 25]]\n",
            "The result of square of array y is: \n",
            " [[25 36]\n",
            " [49 64]]\n",
            "The result of square of array v is: \n",
            " [ 81 100]\n",
            "The result of square of array w is: \n",
            " [121 144]\n",
            "The result of dot product of array v and w is: \n",
            " 219\n",
            "The result of dot product of array x and v is: \n",
            " [29 77]\n",
            "The result of dot product of array x and y is: \n",
            " [[19 22]\n",
            " [50 58]]\n",
            "The result of concatenation of array x and y in row is: \n",
            " [[1 2]\n",
            " [3 5]\n",
            " [5 6]\n",
            " [7 8]]\n",
            "The result of concatenation of array v and w in column is: \n",
            " [[ 9 10]\n",
            " [11 12]]\n"
          ]
        },
        {
          "ename": "ValueError",
          "evalue": "all the input arrays must have same number of dimensions, but the array at index 0 has 2 dimension(s) and the array at index 1 has 1 dimension(s)",
          "output_type": "error",
          "traceback": [
            "\u001b[0;31m---------------------------------------------------------------------------\u001b[0m",
            "\u001b[0;31mValueError\u001b[0m                                Traceback (most recent call last)",
            "\u001b[0;32m<ipython-input-3-9b488f418443>\u001b[0m in \u001b[0;36m<cell line: 55>\u001b[0;34m()\u001b[0m\n\u001b[1;32m     53\u001b[0m \u001b[0mv\u001b[0m \u001b[0;34m=\u001b[0m \u001b[0mnp\u001b[0m\u001b[0;34m.\u001b[0m\u001b[0marray\u001b[0m\u001b[0;34m(\u001b[0m\u001b[0;34m[\u001b[0m\u001b[0;36m9\u001b[0m\u001b[0;34m,\u001b[0m\u001b[0;36m10\u001b[0m\u001b[0;34m]\u001b[0m\u001b[0;34m)\u001b[0m\u001b[0;34m\u001b[0m\u001b[0;34m\u001b[0m\u001b[0m\n\u001b[1;32m     54\u001b[0m \u001b[0mw\u001b[0m \u001b[0;34m=\u001b[0m \u001b[0mnp\u001b[0m\u001b[0;34m.\u001b[0m\u001b[0marray\u001b[0m\u001b[0;34m(\u001b[0m\u001b[0;34m[\u001b[0m\u001b[0;36m11\u001b[0m\u001b[0;34m,\u001b[0m\u001b[0;36m12\u001b[0m\u001b[0;34m]\u001b[0m\u001b[0;34m)\u001b[0m\u001b[0;34m\u001b[0m\u001b[0;34m\u001b[0m\u001b[0m\n\u001b[0;32m---> 55\u001b[0;31m \u001b[0mprint\u001b[0m\u001b[0;34m(\u001b[0m\u001b[0;34m\"The result of concatenation of array x and v in row is: \\n\"\u001b[0m\u001b[0;34m,\u001b[0m\u001b[0mnp\u001b[0m\u001b[0;34m.\u001b[0m\u001b[0mconcatenate\u001b[0m\u001b[0;34m(\u001b[0m\u001b[0;34m(\u001b[0m\u001b[0mx\u001b[0m\u001b[0;34m,\u001b[0m \u001b[0mv\u001b[0m\u001b[0;34m)\u001b[0m\u001b[0;34m,\u001b[0m\u001b[0maxis\u001b[0m\u001b[0;34m=\u001b[0m\u001b[0;36m0\u001b[0m\u001b[0;34m)\u001b[0m\u001b[0;34m)\u001b[0m\u001b[0;34m\u001b[0m\u001b[0;34m\u001b[0m\u001b[0m\n\u001b[0m\u001b[1;32m     56\u001b[0m \u001b[0;31m#The error is due to the difference of dimesion where x is 2,2 while b is 1,2.\u001b[0m\u001b[0;34m\u001b[0m\u001b[0;34m\u001b[0m\u001b[0m\n\u001b[1;32m     57\u001b[0m \u001b[0;34m\u001b[0m\u001b[0m\n",
            "\u001b[0;31mValueError\u001b[0m: all the input arrays must have same number of dimensions, but the array at index 0 has 2 dimension(s) and the array at index 1 has 1 dimension(s)"
          ]
        }
      ],
      "source": [
        "# Problem 3\n",
        "\n",
        "import numpy as np\n",
        "x = np.array([[1,2],[3,5]])\n",
        "y = np.array([[5,6],[7,8]])\n",
        "v = np.array([9,10])\n",
        "w = np.array([11,12])\n",
        "print(\"The result of sum of array x and y is: \\n\",np.add(x, y))\n",
        "print(\"The result of sum of array v and w is: \\n\",np.add(v, w))\n",
        "\n",
        "x = np.array([[1,2],[3,5]])\n",
        "y = np.array([[5,6],[7,8]])\n",
        "v = np.array([9,10])\n",
        "w = np.array([11,12])\n",
        "print(\"The result of subtraction of array x and y is: \\n\",np.subtract(x, y))\n",
        "print(\"The result of subtraction of array v and w is: \\n\",np.subtract(v, w))\n",
        "\n",
        "x = np.array([[1,2],[3,5]])\n",
        "y = np.array([[5,6],[7,8]])\n",
        "v = np.array([9,10])\n",
        "w = np.array([11,12])\n",
        "print(\"The result of multiplication of array x with 2 is: \\n\",np.multiply(x, 2))\n",
        "print(\"The result of multiplication of array y with 2 is: \\n\",np.multiply(y, 2))\n",
        "print(\"The result of multiplication of array v with 2 is: \\n\",np.multiply(v, 2))\n",
        "print(\"The result of multiplication of array w with 2 is: \\n\",np.multiply(w, 2))\n",
        "\n",
        "x = np.array([[1,2],[3,5]])\n",
        "y = np.array([[5,6],[7,8]])\n",
        "v = np.array([9,10])\n",
        "w = np.array([11,12])\n",
        "print(\"The result of square of array x is: \\n\",np.square(x))\n",
        "print(\"The result of square of array y is: \\n\",np.square(y))\n",
        "print(\"The result of square of array v is: \\n\",np.square(v))\n",
        "print(\"The result of square of array w is: \\n\",np.square(w))\n",
        "\n",
        "x = np.array([[1,2],[3,5]])\n",
        "y = np.array([[5,6],[7,8]])\n",
        "v = np.array([9,10])\n",
        "w = np.array([11,12])\n",
        "print(\"The result of dot product of array v and w is: \\n\",np.dot(v,w))\n",
        "print(\"The result of dot product of array x and v is: \\n\",np.dot(x,v))\n",
        "print(\"The result of dot product of array x and y is: \\n\",np.dot(x,y))\n",
        "\n",
        "x = np.array([[1,2],[3,5]])\n",
        "y = np.array([[5,6],[7,8]])\n",
        "v = np.array([9,10])\n",
        "w = np.array([11,12])\n",
        "print(\"The result of concatenation of array x and y in row is: \\n\",np.concatenate((x, y),axis=0))\n",
        "print(\"The result of concatenation of array v and w in column is: \\n\",np.vstack((v, w)))\n",
        "\n",
        "x = np.array([[1,2],[3,5]])\n",
        "y = np.array([[5,6],[7,8]])\n",
        "v = np.array([9,10])\n",
        "w = np.array([11,12])\n",
        "print(\"The result of concatenation of array x and v in row is: \\n\",np.concatenate((x, v),axis=0))\n",
        "#The error is due to the difference of dimesion where x is 2,2 while b is 1,2.\n",
        "\n",
        "#problem 4 (Matrix operation)\n",
        "A = np.array([[3,4],[7,8]])\n",
        "B = np.array([[5,3],[2,1]])\n",
        "#proves: A * inverse(A) = I\n",
        "print(np.dot(A,np.linalg.inv(A)))\n",
        "\n",
        "A = np.array([[3,4],[7,8]])\n",
        "B = np.array([[5,3],[2,1]])\n",
        "print(\"A.B: \\n\",np.dot(A,B), \"\\nB.A: \\n\",np.dot(B,A))\n",
        "print(\"Hence proves AB ̸= BA.\")\n",
        "\n",
        "A = np.array([[3,4],[7,8]])\n",
        "B = np.array([[5,3],[2,1]])\n",
        "print(np.transpose(np.dot(A,B)))\n",
        "print(np.dot(np.transpose(B),np.transpose(A)))\n",
        "print(\"Hence proves (AB)T = BTAT.\")\n",
        "\n",
        "A = np.array([[2,-3,1], [1,-1,2], [3,1,-1]])\n",
        "B = np.reshape(np.array([-1,-3,9]),(3,1))\n",
        "A_inverse = np.linalg.inv(A)\n",
        "answer = np.dot(A_inverse,B)\n",
        "print(\"Answer: \\n\", answer)"
      ]
    },
    {
      "cell_type": "code",
      "execution_count": null,
      "metadata": {
        "colab": {
          "base_uri": "https://localhost:8080/"
        },
        "id": "DFuxcwrQD9Hp",
        "outputId": "bc8a102e-db22-463a-976f-abb7aef2e701"
      },
      "outputs": [
        {
          "name": "stdout",
          "output_type": "stream",
          "text": [
            "Time taken for addition using Python lists: 0.169538 seconds\n",
            "Time taken for addition using NumPy arrays: 0.005909 seconds\n",
            "NumPy is approximately 28.69 times faster than Python lists.\n"
          ]
        }
      ],
      "source": [
        "#4.2 Experiment: How Fast is Numpy?\n",
        "#1. Element-wise Addition:\n",
        "import time\n",
        "import numpy as np\n",
        "\n",
        "#define the size of the arrays/lists\n",
        "size = 1_000_000\n",
        "\n",
        "#create two Python lists with 1,000,000 elements\n",
        "list1 = list(range(size))\n",
        "list2 = list(range(size))\n",
        "\n",
        "#measure the time taken for element-wise addition using Python lists\n",
        "start_time = time.time()\n",
        "result_list = [list1[i] + list2[i] for i in range(size)]\n",
        "end_time = time.time()\n",
        "python_time = end_time - start_time\n",
        "print(f\"Time taken for addition using Python lists: {python_time:.6f} seconds\")\n",
        "\n",
        "# Create two NumPy arrays with 1,000,000 elements\n",
        "array1 = np.arange(size)\n",
        "array2 = np.arange(size)\n",
        "\n",
        "#measure the time taken for element-wise addition using NumPy arrays\n",
        "start_time = time.time()\n",
        "result_array = array1 + array2\n",
        "end_time = time.time()\n",
        "numpy_time = end_time - start_time\n",
        "print(f\"Time taken for addition using NumPy arrays: {numpy_time:.6f} seconds\")\n",
        "\n",
        "#performance comparison\n",
        "print(f\"NumPy is approximately {python_time / numpy_time:.2f} times faster than Python lists.\")\n"
      ]
    },
    {
      "cell_type": "code",
      "execution_count": null,
      "metadata": {
        "colab": {
          "base_uri": "https://localhost:8080/"
        },
        "id": "qPKIgJA-qdqu",
        "outputId": "888d8ed1-1267-4134-d8b7-6cca8d60bd4e"
      },
      "outputs": [
        {
          "name": "stdout",
          "output_type": "stream",
          "text": [
            "Time taken for multiplication using Python lists: 0.273374 seconds\n",
            "Time taken for multiplication using NumPy arrays: 0.006192 seconds\n",
            "NumPy is approximately 44.15 times faster than Python lists.\n"
          ]
        }
      ],
      "source": [
        "#2. Element-wise Multiplication\n",
        "import time\n",
        "import numpy as np\n",
        "\n",
        "#define the size of the arrays/lists\n",
        "size = 1_000_000\n",
        "\n",
        "#create two Python lists with 1,000,000 elements\n",
        "list1 = list(range(size))\n",
        "list2 = list(range(size))\n",
        "\n",
        "#measure the time taken for element-wise multiplication using Python lists\n",
        "start_time = time.time()\n",
        "result_list = [list1[i] * list2[i] for i in range(size)]\n",
        "end_time = time.time()\n",
        "python_time = end_time - start_time\n",
        "print(f\"Time taken for multiplication using Python lists: {python_time:.6f} seconds\")\n",
        "\n",
        "#create two NumPy arrays with 1,000,000 elements\n",
        "array1 = np.arange(size)\n",
        "array2 = np.arange(size)\n",
        "\n",
        "#measure the time taken for element-wise multiplication using NumPy arrays\n",
        "start_time = time.time()\n",
        "result_array = array1 * array2\n",
        "end_time = time.time()\n",
        "numpy_time = end_time - start_time\n",
        "print(f\"Time taken for multiplication using NumPy arrays: {numpy_time:.6f} seconds\")\n",
        "\n",
        "#performance comparison\n",
        "print(f\"NumPy is approximately {python_time / numpy_time:.2f} times faster than Python lists.\")"
      ]
    },
    {
      "cell_type": "code",
      "execution_count": null,
      "metadata": {
        "colab": {
          "base_uri": "https://localhost:8080/"
        },
        "id": "OKuH8UP_rCGb",
        "outputId": "e1fc7c78-25ad-40cb-e991-69630b806a06"
      },
      "outputs": [
        {
          "name": "stdout",
          "output_type": "stream",
          "text": [
            "Dot product using Python lists: 333332833333500000\n",
            "Time taken for dot product using Python lists: 0.202627 seconds\n",
            "Dot product using NumPy arrays: 333332833333500000\n",
            "Time taken for dot product using NumPy arrays: 0.001508 seconds\n",
            "NumPy is approximately 134.41 times faster than Python lists.\n"
          ]
        }
      ],
      "source": [
        "# 3. Dot Product\n",
        "import time\n",
        "import numpy as np\n",
        "\n",
        "#define the size of the arrays/lists\n",
        "size = 1_000_000\n",
        "\n",
        "#create two Python lists with 1,000,000 elements\n",
        "list1 = list(range(size))\n",
        "list2 = list(range(size))\n",
        "\n",
        "#measure the time taken to compute the dot product using Python lists\n",
        "start_time = time.time()\n",
        "dot_product_list = sum([list1[i] * list2[i] for i in range(size)])\n",
        "end_time = time.time()\n",
        "python_time = end_time - start_time\n",
        "print(f\"Dot product using Python lists: {dot_product_list}\")\n",
        "print(f\"Time taken for dot product using Python lists: {python_time:.6f} seconds\")\n",
        "\n",
        "#create two NumPy arrays with 1,000,000 elements\n",
        "array1 = np.arange(size)\n",
        "array2 = np.arange(size)\n",
        "\n",
        "#measure the time taken to compute the dot product using NumPy arrays\n",
        "start_time = time.time()\n",
        "dot_product_array = np.dot(array1, array2)\n",
        "end_time = time.time()\n",
        "numpy_time = end_time - start_time\n",
        "print(f\"Dot product using NumPy arrays: {dot_product_array}\")\n",
        "print(f\"Time taken for dot product using NumPy arrays: {numpy_time:.6f} seconds\")\n",
        "\n",
        "#performance comparison\n",
        "print(f\"NumPy is approximately {python_time / numpy_time:.2f} times faster than Python lists.\")"
      ]
    },
    {
      "cell_type": "code",
      "execution_count": null,
      "metadata": {
        "colab": {
          "background_save": true
        },
        "id": "Hxbx0OoWra4G",
        "outputId": "61c7e53d-815e-4ba4-bae7-f620ffa3bdad"
      },
      "outputs": [
        {
          "name": "stdout",
          "output_type": "stream",
          "text": [
            "Time taken for matrix multiplication using Python lists: 482.040996 seconds\n",
            "Time taken for matrix multiplication using NumPy: 1.819175 seconds\n",
            "NumPy is approximately 264.98 times faster than Python lists.\n"
          ]
        }
      ],
      "source": [
        "# 4. Matrix Multiplication\n",
        "import time\n",
        "import numpy as np\n",
        "\n",
        "#define the size of the matrices\n",
        "size = 1000\n",
        "\n",
        "#create two 1000x1000 matrices using Python lists\n",
        "matrix1 = [[i + j for j in range(size)] for i in range(size)]\n",
        "matrix2 = [[i * j for j in range(size)] for i in range(size)]\n",
        "\n",
        "#measure time for matrix multiplication using Python lists\n",
        "start_time = time.time()\n",
        "\n",
        "#initialize the result matrix\n",
        "result_list = [[0] * size for _ in range(size)]\n",
        "\n",
        "#perform matrix multiplication\n",
        "for i in range(size):\n",
        "    for j in range(size):\n",
        "        for k in range(size):\n",
        "            result_list[i][j] += matrix1[i][k] * matrix2[k][j]\n",
        "\n",
        "end_time = time.time()\n",
        "python_time = end_time - start_time\n",
        "print(f\"Time taken for matrix multiplication using Python lists: {python_time:.6f} seconds\")\n",
        "\n",
        "#create two 1000x1000 matrices using NumPy arrays\n",
        "array1 = np.arange(size * size).reshape(size, size)\n",
        "array2 = np.arange(size * size).reshape(size, size)\n",
        "\n",
        "#measure time for matrix multiplication using NumPy\n",
        "start_time = time.time()\n",
        "result_array = np.dot(array1, array2)  # or array1 @ array2\n",
        "end_time = time.time()\n",
        "numpy_time = end_time - start_time\n",
        "print(f\"Time taken for matrix multiplication using NumPy: {numpy_time:.6f} seconds\")\n",
        "\n",
        "#performance comparison\n",
        "print(f\"NumPy is approximately {python_time / numpy_time:.2f} times faster than Python lists.\")"
      ]
    }
  ],
  "metadata": {
    "colab": {
      "provenance": []
    },
    "kernelspec": {
      "display_name": "Python 3",
      "name": "python3"
    },
    "language_info": {
      "name": "python"
    }
  },
  "nbformat": 4,
  "nbformat_minor": 0
}