{
  "nbformat": 4,
  "nbformat_minor": 0,
  "metadata": {
    "colab": {
      "provenance": []
    },
    "kernelspec": {
      "name": "python3",
      "display_name": "Python 3"
    },
    "language_info": {
      "name": "python"
    }
  },
  "cells": [
    {
      "cell_type": "markdown",
      "source": [
        "3.1 Warm Up Exercises:\n",
        "\n",
        "1. Sorting and Subsetting:\n",
        "\n",
        "Dataset for the Task: \"titanic.csv\""
      ],
      "metadata": {
        "id": "bPo2H226jqcG"
      }
    },
    {
      "cell_type": "code",
      "execution_count": 2,
      "metadata": {
        "id": "XBuUZiSKjchd"
      },
      "outputs": [],
      "source": [
        "#1. Load the provided dataset and import in pandas DataFrame.\n",
        "import pandas as pd\n",
        "df =pd.read_csv(\"/content/drive/MyDrive/AI_sem-3/week02-workshop/Datasets/Titanic-Dataset.csv\")\n"
      ]
    },
    {
      "cell_type": "code",
      "source": [
        "#2. Check info of the DataFrame and identify following:\n",
        "df.info()"
      ],
      "metadata": {
        "colab": {
          "base_uri": "https://localhost:8080/"
        },
        "id": "GwpJt86Nn7_W",
        "outputId": "82be3236-255f-45f2-8d38-748db4822d24"
      },
      "execution_count": 8,
      "outputs": [
        {
          "output_type": "stream",
          "name": "stdout",
          "text": [
            "<class 'pandas.core.frame.DataFrame'>\n",
            "RangeIndex: 891 entries, 0 to 890\n",
            "Data columns (total 12 columns):\n",
            " #   Column       Non-Null Count  Dtype  \n",
            "---  ------       --------------  -----  \n",
            " 0   PassengerId  891 non-null    int64  \n",
            " 1   Survived     891 non-null    int64  \n",
            " 2   Pclass       891 non-null    int64  \n",
            " 3   Name         891 non-null    object \n",
            " 4   Sex          891 non-null    object \n",
            " 5   Age          714 non-null    float64\n",
            " 6   SibSp        891 non-null    int64  \n",
            " 7   Parch        891 non-null    int64  \n",
            " 8   Ticket       891 non-null    object \n",
            " 9   Fare         891 non-null    float64\n",
            " 10  Cabin        204 non-null    object \n",
            " 11  Embarked     889 non-null    object \n",
            "dtypes: float64(2), int64(5), object(5)\n",
            "memory usage: 83.7+ KB\n"
          ]
        }
      ]
    },
    {
      "cell_type": "markdown",
      "source": [
        "Problem 1 - Sorting:\n",
        "\n",
        "1. Create a DataFrame called fare that contains only the Fare column of the Titanic dataset. Print the\n",
        "head of the result."
      ],
      "metadata": {
        "id": "ykEZ8odzsnnc"
      }
    },
    {
      "cell_type": "code",
      "source": [
        "#dataFrame containing only the fare column\n",
        "fare = df[['Fare']]\n",
        "print(fare.head())"
      ],
      "metadata": {
        "colab": {
          "base_uri": "https://localhost:8080/"
        },
        "id": "Jg2Z870VsWSs",
        "outputId": "4c839398-0a0d-400c-dd65-e39fb800f390"
      },
      "execution_count": 62,
      "outputs": [
        {
          "output_type": "stream",
          "name": "stdout",
          "text": [
            "      Fare\n",
            "0   7.2500\n",
            "1  71.2833\n",
            "2   7.9250\n",
            "3  53.1000\n",
            "4   8.0500\n"
          ]
        }
      ]
    },
    {
      "cell_type": "markdown",
      "source": [
        "2. Create a DataFrame called class age that contains only the Pclass and Age columns of the Titanic\n",
        "dataset, in that order. Print the head of the result."
      ],
      "metadata": {
        "id": "4h1lOU3iyrek"
      }
    },
    {
      "cell_type": "code",
      "source": [
        "class_age=df[['Pclass','Age']] #double brackets is to subset pclass and age columns\n",
        "print(class_age.head())"
      ],
      "metadata": {
        "id": "y9TzixSO0sxm",
        "colab": {
          "base_uri": "https://localhost:8080/"
        },
        "outputId": "46930eec-a878-4731-e43b-72f100b924f8"
      },
      "execution_count": 3,
      "outputs": [
        {
          "output_type": "stream",
          "name": "stdout",
          "text": [
            "   Pclass   Age\n",
            "0       3  22.0\n",
            "1       1  38.0\n",
            "2       3  26.0\n",
            "3       1  35.0\n",
            "4       3  35.0\n"
          ]
        }
      ]
    },
    {
      "cell_type": "markdown",
      "source": [
        "3. Create a DataFrame called survived gender that contains the Survived and Sex columns of the\n",
        "Titanic dataset, in that order.Print the head of the result."
      ],
      "metadata": {
        "id": "YxyTeqBnhDNf"
      }
    },
    {
      "cell_type": "code",
      "source": [
        "survived_gender=df[['Survived','Sex']]\n",
        "print(survived_gender.head())"
      ],
      "metadata": {
        "colab": {
          "base_uri": "https://localhost:8080/"
        },
        "id": "snvmDBNhhPr9",
        "outputId": "a2dc43f9-cee7-4dfc-92cc-26ca1078aa93"
      },
      "execution_count": 4,
      "outputs": [
        {
          "output_type": "stream",
          "name": "stdout",
          "text": [
            "   Survived     Sex\n",
            "0         0    male\n",
            "1         1  female\n",
            "2         1  female\n",
            "3         1  female\n",
            "4         0    male\n"
          ]
        }
      ]
    },
    {
      "cell_type": "markdown",
      "source": [
        "Problem - 2 - Subsetting:\n",
        "Subsetting Rows:\n",
        "\n",
        "1. Filter the Titanic dataset for cases where the passenger’s fare is greater than 100, assigning it\n",
        "to fare gt 100.View the printed result."
      ],
      "metadata": {
        "id": "x24soRY1hdBX"
      }
    },
    {
      "cell_type": "code",
      "source": [
        "fare_gt_100 = df[df['Fare'] > 100]\n",
        "print(fare_gt_100.head()) # i printed just the head of the data to make it look cleaner"
      ],
      "metadata": {
        "colab": {
          "base_uri": "https://localhost:8080/"
        },
        "id": "aTAqzOophlVM",
        "outputId": "45f7d492-9de6-4b76-99e0-d821233d4da5"
      },
      "execution_count": 25,
      "outputs": [
        {
          "output_type": "stream",
          "name": "stdout",
          "text": [
            "     PassengerId  Survived  Pclass  \\\n",
            "27            28         0       1   \n",
            "31            32         1       1   \n",
            "88            89         1       1   \n",
            "118          119         0       1   \n",
            "195          196         1       1   \n",
            "\n",
            "                                               Name     Sex   Age  SibSp  \\\n",
            "27                   Fortune, Mr. Charles Alexander    male  19.0      3   \n",
            "31   Spencer, Mrs. William Augustus (Marie Eugenie)  female  28.0      1   \n",
            "88                       Fortune, Miss. Mabel Helen  female  23.0      3   \n",
            "118                        Baxter, Mr. Quigg Edmond    male  24.0      0   \n",
            "195                            Lurette, Miss. Elise  female  58.0      0   \n",
            "\n",
            "     Parch    Ticket      Fare        Cabin Embarked  Fare per Year  \n",
            "27       2     19950  263.0000  C23 C25 C27        S      13.842105  \n",
            "31       0  PC 17569  146.5208          B78        C       5.232886  \n",
            "88       2     19950  263.0000  C23 C25 C27        S      11.434783  \n",
            "118      1  PC 17558  247.5208      B58 B60        C      10.313367  \n",
            "195      0  PC 17569  146.5208          B80        C       2.526221  \n"
          ]
        }
      ]
    },
    {
      "cell_type": "markdown",
      "source": [
        "2. Filter the Titanic dataset for cases where the passenger’s class (Pclass) is 1, assigning it to\n",
        "first class.View the printed result."
      ],
      "metadata": {
        "id": "xcF-R636h4Ck"
      }
    },
    {
      "cell_type": "code",
      "source": [
        "first_class = df[df['Pclass']==1]\n",
        "print(first_class.head())# i printed just the head of the data to make it look cleaner"
      ],
      "metadata": {
        "colab": {
          "base_uri": "https://localhost:8080/"
        },
        "id": "RxwHShXjh8Vc",
        "outputId": "fdfc65be-6b50-4b8a-cd2f-1a31122dd050"
      },
      "execution_count": 63,
      "outputs": [
        {
          "output_type": "stream",
          "name": "stdout",
          "text": [
            "    PassengerId  Survived  Pclass  \\\n",
            "1             2         1       1   \n",
            "3             4         1       1   \n",
            "6             7         0       1   \n",
            "11           12         1       1   \n",
            "23           24         1       1   \n",
            "\n",
            "                                                 Name     Sex   Age  SibSp  \\\n",
            "1   Cumings, Mrs. John Bradley (Florence Briggs Th...  female  38.0      1   \n",
            "3        Futrelle, Mrs. Jacques Heath (Lily May Peel)  female  35.0      1   \n",
            "6                             McCarthy, Mr. Timothy J    male  54.0      0   \n",
            "11                           Bonnell, Miss. Elizabeth  female  58.0      0   \n",
            "23                       Sloper, Mr. William Thompson    male  28.0      0   \n",
            "\n",
            "    Parch    Ticket     Fare Cabin Embarked  Fare per Year  Fare per Class  \\\n",
            "1       0  PC 17599  71.2833   C85        C       1.875876         71.2833   \n",
            "3       0    113803  53.1000  C123        S       1.517143         53.1000   \n",
            "6       0     17463  51.8625   E46        S       0.960417         51.8625   \n",
            "11      0    113783  26.5500  C103        S       0.457759         26.5500   \n",
            "23      0    113788  35.5000    A6        S       1.267857         35.5000   \n",
            "\n",
            "   Age Group  \n",
            "1      adult  \n",
            "3      adult  \n",
            "6      adult  \n",
            "11     adult  \n",
            "23     adult  \n"
          ]
        }
      ]
    },
    {
      "cell_type": "markdown",
      "source": [
        "3. Filter the Titanic dataset for cases where the passenger’s age is less than 18 and the passenger\n",
        "is female (Sex is \"female\"), assigning it to female under 18. View the printed result."
      ],
      "metadata": {
        "id": "WlAKIsaZjBRr"
      }
    },
    {
      "cell_type": "code",
      "source": [
        "female_under_18=df[(df['Age']<18) & (df['Sex']=='female')]\n",
        "print(female_under_18.head())# just the head of the data for cleaner output"
      ],
      "metadata": {
        "colab": {
          "base_uri": "https://localhost:8080/"
        },
        "id": "EZ9uXeKEjX5V",
        "outputId": "55c67b50-6b1d-4de9-a18c-da05bdf14f53"
      },
      "execution_count": 61,
      "outputs": [
        {
          "output_type": "stream",
          "name": "stdout",
          "text": [
            "    PassengerId  Survived  Pclass                                  Name  \\\n",
            "9            10         1       2   Nasser, Mrs. Nicholas (Adele Achem)   \n",
            "10           11         1       3       Sandstrom, Miss. Marguerite Rut   \n",
            "14           15         0       3  Vestrom, Miss. Hulda Amanda Adolfina   \n",
            "22           23         1       3           McGowan, Miss. Anna \"Annie\"   \n",
            "24           25         0       3         Palsson, Miss. Torborg Danira   \n",
            "\n",
            "       Sex   Age  SibSp  Parch   Ticket     Fare Cabin Embarked  \\\n",
            "9   female  14.0      1      0   237736  30.0708   NaN        C   \n",
            "10  female   4.0      1      1  PP 9549  16.7000    G6        S   \n",
            "14  female  14.0      0      0   350406   7.8542   NaN        S   \n",
            "22  female  15.0      0      0   330923   8.0292   NaN        Q   \n",
            "24  female   8.0      3      1   349909  21.0750   NaN        S   \n",
            "\n",
            "    Fare per Year  Fare per Class Age Group  \n",
            "9        2.147914       15.035400     child  \n",
            "10       4.175000        5.566667     child  \n",
            "14       0.561014        2.618067     child  \n",
            "22       0.535280        2.676400     child  \n",
            "24       2.634375        7.025000     child  \n"
          ]
        }
      ]
    },
    {
      "cell_type": "markdown",
      "source": [
        "Subsetting Rows by Categorical variables:\n",
        "1. Filter the Titanic dataset for passengers whose Embarked port is either \"C\" (Cherbourg) or \"S\"\n",
        "(Southampton), assigning the result to embarked c or s. View the printed result."
      ],
      "metadata": {
        "id": "eupoFUFjkEET"
      }
    },
    {
      "cell_type": "code",
      "source": [
        "embarked_c_or_s=df[(df['Embarked']=='C') | (df['Embarked']=='S')]\n",
        "print(embarked_c_or_s.head())"
      ],
      "metadata": {
        "colab": {
          "base_uri": "https://localhost:8080/"
        },
        "id": "_k7BlgOdkGEi",
        "outputId": "d7b02b4a-7e1f-4503-8117-884bcb0f05ea"
      },
      "execution_count": 27,
      "outputs": [
        {
          "output_type": "stream",
          "name": "stdout",
          "text": [
            "   PassengerId  Survived  Pclass  \\\n",
            "0            1         0       3   \n",
            "1            2         1       1   \n",
            "2            3         1       3   \n",
            "3            4         1       1   \n",
            "4            5         0       3   \n",
            "\n",
            "                                                Name     Sex   Age  SibSp  \\\n",
            "0                            Braund, Mr. Owen Harris    male  22.0      1   \n",
            "1  Cumings, Mrs. John Bradley (Florence Briggs Th...  female  38.0      1   \n",
            "2                             Heikkinen, Miss. Laina  female  26.0      0   \n",
            "3       Futrelle, Mrs. Jacques Heath (Lily May Peel)  female  35.0      1   \n",
            "4                           Allen, Mr. William Henry    male  35.0      0   \n",
            "\n",
            "   Parch            Ticket     Fare Cabin Embarked  Fare per Year  \n",
            "0      0         A/5 21171   7.2500   NaN        S       0.329545  \n",
            "1      0          PC 17599  71.2833   C85        C       1.875876  \n",
            "2      0  STON/O2. 3101282   7.9250   NaN        S       0.304808  \n",
            "3      0            113803  53.1000  C123        S       1.517143  \n",
            "4      0            373450   8.0500   NaN        S       0.230000  \n"
          ]
        }
      ]
    },
    {
      "cell_type": "markdown",
      "source": [
        "2. Filter the Titanic dataset for passengers whose Pclass is in the list [1, 2] (indicating first\n",
        "or second class), assigning the result to first second class.View the printed result."
      ],
      "metadata": {
        "id": "txMMyJqckrhC"
      }
    },
    {
      "cell_type": "code",
      "source": [
        "first_second_class=df[(df['Pclass']==1) | (df['Pclass']== 2)]\n",
        "print(first_second_class)"
      ],
      "metadata": {
        "colab": {
          "base_uri": "https://localhost:8080/"
        },
        "id": "KnPjB-stk5q5",
        "outputId": "14ec62c1-b3a7-42b7-eeac-9a053c550a9d"
      },
      "execution_count": 10,
      "outputs": [
        {
          "output_type": "stream",
          "name": "stdout",
          "text": [
            "     PassengerId  Survived  Pclass  \\\n",
            "1              2         1       1   \n",
            "3              4         1       1   \n",
            "6              7         0       1   \n",
            "9             10         1       2   \n",
            "11            12         1       1   \n",
            "..           ...       ...     ...   \n",
            "880          881         1       2   \n",
            "883          884         0       2   \n",
            "886          887         0       2   \n",
            "887          888         1       1   \n",
            "889          890         1       1   \n",
            "\n",
            "                                                  Name     Sex   Age  SibSp  \\\n",
            "1    Cumings, Mrs. John Bradley (Florence Briggs Th...  female  38.0      1   \n",
            "3         Futrelle, Mrs. Jacques Heath (Lily May Peel)  female  35.0      1   \n",
            "6                              McCarthy, Mr. Timothy J    male  54.0      0   \n",
            "9                  Nasser, Mrs. Nicholas (Adele Achem)  female  14.0      1   \n",
            "11                            Bonnell, Miss. Elizabeth  female  58.0      0   \n",
            "..                                                 ...     ...   ...    ...   \n",
            "880       Shelley, Mrs. William (Imanita Parrish Hall)  female  25.0      0   \n",
            "883                      Banfield, Mr. Frederick James    male  28.0      0   \n",
            "886                              Montvila, Rev. Juozas    male  27.0      0   \n",
            "887                       Graham, Miss. Margaret Edith  female  19.0      0   \n",
            "889                              Behr, Mr. Karl Howell    male  26.0      0   \n",
            "\n",
            "     Parch            Ticket     Fare Cabin Embarked  \n",
            "1        0          PC 17599  71.2833   C85        C  \n",
            "3        0            113803  53.1000  C123        S  \n",
            "6        0             17463  51.8625   E46        S  \n",
            "9        0            237736  30.0708   NaN        C  \n",
            "11       0            113783  26.5500  C103        S  \n",
            "..     ...               ...      ...   ...      ...  \n",
            "880      1            230433  26.0000   NaN        S  \n",
            "883      0  C.A./SOTON 34068  10.5000   NaN        S  \n",
            "886      0            211536  13.0000   NaN        S  \n",
            "887      0            112053  30.0000   B42        S  \n",
            "889      0            111369  30.0000  C148        C  \n",
            "\n",
            "[400 rows x 12 columns]\n"
          ]
        }
      ]
    },
    {
      "cell_type": "markdown",
      "source": [
        "3.2 Exploratory Data Analysis Practice Exercise - 1.\n",
        "\n",
        "Which passenger had the highest fare paid relative to their age?\n",
        "\n",
        "---\n",
        "\n"
      ],
      "metadata": {
        "id": "7bBA2cMKlgLU"
      }
    },
    {
      "cell_type": "code",
      "source": [
        "#handeling missing value in the age column filling them with the median age of the datset before division\n",
        "df['Age'] = df['Age'].fillna(df['Age'].median())\n",
        "print(df[['Age']])"
      ],
      "metadata": {
        "colab": {
          "base_uri": "https://localhost:8080/"
        },
        "id": "tEUuMuf2mDrk",
        "outputId": "04ed7d96-2b2d-496c-896a-709d1d92f4a2"
      },
      "execution_count": 21,
      "outputs": [
        {
          "output_type": "stream",
          "name": "stdout",
          "text": [
            "      Age\n",
            "0    22.0\n",
            "1    38.0\n",
            "2    26.0\n",
            "3    35.0\n",
            "4    35.0\n",
            "..    ...\n",
            "886  27.0\n",
            "887  19.0\n",
            "888  28.0\n",
            "889  26.0\n",
            "890  32.0\n",
            "\n",
            "[891 rows x 1 columns]\n"
          ]
        }
      ]
    },
    {
      "cell_type": "code",
      "source": [
        "#1. Add a column to the Titanic dataset, fare per year, containing the fare divided by the age of\n",
        "# the passenger(i.e., Fare/Age).\n",
        "df['Fare per Year'] = df['Fare'] / df['Age']\n",
        "print(\"After adding the 'fare per year' column:\")\n",
        "print(df[['Fare per Year']])"
      ],
      "metadata": {
        "colab": {
          "base_uri": "https://localhost:8080/"
        },
        "id": "rq70acPmnEdA",
        "outputId": "be5b3c09-dead-4c9f-919a-a9fedcd0d37a"
      },
      "execution_count": 22,
      "outputs": [
        {
          "output_type": "stream",
          "name": "stdout",
          "text": [
            "After adding the 'fare per year' column:\n",
            "     Fare per Year\n",
            "0         0.329545\n",
            "1         1.875876\n",
            "2         0.304808\n",
            "3         1.517143\n",
            "4         0.230000\n",
            "..             ...\n",
            "886       0.481481\n",
            "887       1.578947\n",
            "888       0.837500\n",
            "889       1.153846\n",
            "890       0.242188\n",
            "\n",
            "[891 rows x 1 columns]\n"
          ]
        }
      ]
    },
    {
      "cell_type": "code",
      "source": [
        "#2. Subset rows where fare per year is higher than 5, assigning this to high fare age.\n",
        "high_fare_age = df[df['Fare per Year'] > 5]\n",
        "print(\"Rows where fare per year is higher than 5:\")\n",
        "print(high_fare_age)"
      ],
      "metadata": {
        "colab": {
          "base_uri": "https://localhost:8080/"
        },
        "id": "G4G416K4nbTh",
        "outputId": "8e96feda-e85a-4b90-c4fa-85e48525d6a8"
      },
      "execution_count": 18,
      "outputs": [
        {
          "output_type": "stream",
          "name": "stdout",
          "text": [
            "Rows where fare per year is higher than 5:\n",
            "     PassengerId  Survived  Pclass  \\\n",
            "7              8         0       3   \n",
            "16            17         0       3   \n",
            "27            28         0       1   \n",
            "31            32         1       1   \n",
            "43            44         1       2   \n",
            "..           ...       ...     ...   \n",
            "813          814         0       3   \n",
            "824          825         0       3   \n",
            "827          828         1       2   \n",
            "831          832         1       2   \n",
            "850          851         0       3   \n",
            "\n",
            "                                               Name     Sex    Age  SibSp  \\\n",
            "7                    Palsson, Master. Gosta Leonard    male   2.00      3   \n",
            "16                             Rice, Master. Eugene    male   2.00      4   \n",
            "27                   Fortune, Mr. Charles Alexander    male  19.00      3   \n",
            "31   Spencer, Mrs. William Augustus (Marie Eugenie)  female  28.00      1   \n",
            "43         Laroche, Miss. Simonne Marie Anne Andree  female   3.00      1   \n",
            "..                                              ...     ...    ...    ...   \n",
            "813              Andersson, Miss. Ebba Iris Alfrida  female   6.00      4   \n",
            "824                    Panula, Master. Urho Abraham    male   2.00      4   \n",
            "827                           Mallet, Master. Andre    male   1.00      0   \n",
            "831                 Richards, Master. George Sibley    male   0.83      1   \n",
            "850         Andersson, Master. Sigvard Harald Elias    male   4.00      4   \n",
            "\n",
            "     Parch           Ticket      Fare        Cabin Embarked  Fare per Year  \n",
            "7        1           349909   21.0750          NaN        S      10.537500  \n",
            "16       1           382652   29.1250          NaN        Q      14.562500  \n",
            "27       2            19950  263.0000  C23 C25 C27        S      13.842105  \n",
            "31       0         PC 17569  146.5208          B78        C       5.232886  \n",
            "43       2    SC/Paris 2123   41.5792          NaN        C      13.859733  \n",
            "..     ...              ...       ...          ...      ...            ...  \n",
            "813      2           347082   31.2750          NaN        S       5.212500  \n",
            "824      1          3101295   39.6875          NaN        S      19.843750  \n",
            "827      2  S.C./PARIS 2079   37.0042          NaN        C      37.004200  \n",
            "831      1            29106   18.7500          NaN        S      22.590361  \n",
            "850      2           347082   31.2750          NaN        S       7.818750  \n",
            "\n",
            "[71 rows x 13 columns]\n"
          ]
        }
      ]
    },
    {
      "cell_type": "code",
      "source": [
        "#3. Sort high fare age by descending fare per year, assigning this to high fare age srt.\n",
        "high_fare_age_srt = high_fare_age.sort_values(by='Fare per Year', ascending=False)\n",
        "print(\"Sorted high fare age by descending fare per year:\")\n",
        "print(high_fare_age_srt)"
      ],
      "metadata": {
        "colab": {
          "base_uri": "https://localhost:8080/"
        },
        "id": "5RFB0jYOoz2K",
        "outputId": "1ca3ce0e-637d-4676-c771-40d75cda2583"
      },
      "execution_count": 19,
      "outputs": [
        {
          "output_type": "stream",
          "name": "stdout",
          "text": [
            "Sorted high fare age by descending fare per year:\n",
            "     PassengerId  Survived  Pclass  \\\n",
            "305          306         1       1   \n",
            "297          298         0       1   \n",
            "386          387         0       3   \n",
            "164          165         0       3   \n",
            "183          184         1       2   \n",
            "..           ...       ...     ...   \n",
            "348          349         1       3   \n",
            "31            32         1       1   \n",
            "205          206         0       3   \n",
            "813          814         0       3   \n",
            "480          481         0       3   \n",
            "\n",
            "                                               Name     Sex    Age  SibSp  \\\n",
            "305                  Allison, Master. Hudson Trevor    male   0.92      1   \n",
            "297                    Allison, Miss. Helen Loraine  female   2.00      1   \n",
            "386                 Goodwin, Master. Sidney Leonard    male   1.00      5   \n",
            "164                    Panula, Master. Eino Viljami    male   1.00      4   \n",
            "183                       Becker, Master. Richard F    male   1.00      2   \n",
            "..                                              ...     ...    ...    ...   \n",
            "348          Coutts, Master. William Loch \"William\"    male   3.00      1   \n",
            "31   Spencer, Mrs. William Augustus (Marie Eugenie)  female  28.00      1   \n",
            "205                      Strom, Miss. Telma Matilda  female   2.00      0   \n",
            "813              Andersson, Miss. Ebba Iris Alfrida  female   6.00      4   \n",
            "480                  Goodwin, Master. Harold Victor    male   9.00      5   \n",
            "\n",
            "     Parch      Ticket      Fare    Cabin Embarked  Fare per Year  \n",
            "305      2      113781  151.5500  C22 C26        S     164.728261  \n",
            "297      2      113781  151.5500  C22 C26        S      75.775000  \n",
            "386      2     CA 2144   46.9000      NaN        S      46.900000  \n",
            "164      1     3101295   39.6875      NaN        S      39.687500  \n",
            "183      1      230136   39.0000       F4        S      39.000000  \n",
            "..     ...         ...       ...      ...      ...            ...  \n",
            "348      1  C.A. 37671   15.9000      NaN        S       5.300000  \n",
            "31       0    PC 17569  146.5208      B78        C       5.232886  \n",
            "205      1      347054   10.4625       G6        S       5.231250  \n",
            "813      2      347082   31.2750      NaN        S       5.212500  \n",
            "480      2     CA 2144   46.9000      NaN        S       5.211111  \n",
            "\n",
            "[71 rows x 13 columns]\n"
          ]
        }
      ]
    },
    {
      "cell_type": "code",
      "source": [
        "#4. Select only the Name and fare per year columns of high fare age srt and save the result as result.\n",
        "result = high_fare_age_srt[['Name', 'Fare per Year']]\n",
        "print(\"Selected Name and fare per year columns of high fare age srt:\")\n",
        "print(result)"
      ],
      "metadata": {
        "colab": {
          "base_uri": "https://localhost:8080/"
        },
        "id": "HijaZub9paYI",
        "outputId": "7736d24a-7d2b-44f9-be33-e3a1218e633b"
      },
      "execution_count": 20,
      "outputs": [
        {
          "output_type": "stream",
          "name": "stdout",
          "text": [
            "Selected Name and fare per year columns of high fare age srt:\n",
            "                                               Name  Fare per Year\n",
            "305                  Allison, Master. Hudson Trevor     164.728261\n",
            "297                    Allison, Miss. Helen Loraine      75.775000\n",
            "386                 Goodwin, Master. Sidney Leonard      46.900000\n",
            "164                    Panula, Master. Eino Viljami      39.687500\n",
            "183                       Becker, Master. Richard F      39.000000\n",
            "..                                              ...            ...\n",
            "348          Coutts, Master. William Loch \"William\"       5.300000\n",
            "31   Spencer, Mrs. William Augustus (Marie Eugenie)       5.232886\n",
            "205                      Strom, Miss. Telma Matilda       5.231250\n",
            "813              Andersson, Miss. Ebba Iris Alfrida       5.212500\n",
            "480                  Goodwin, Master. Harold Victor       5.211111\n",
            "\n",
            "[71 rows x 2 columns]\n"
          ]
        }
      ]
    },
    {
      "cell_type": "markdown",
      "source": [
        "Which adult male passenger (age ≥ 18 and Sex is ’male’) paid the highest fare relative to their\n",
        "class?"
      ],
      "metadata": {
        "id": "SLJ3f3Kup4KR"
      }
    },
    {
      "cell_type": "code",
      "source": [
        "#1. Add a column to the Titanic dataset, fare per class, containing the fare divided by the passenger\n",
        "# class i.e. Fare / Pclass.\n",
        "df['Fare per Class'] = df['Fare'] / df['Pclass']"
      ],
      "metadata": {
        "id": "wvRK00Gup-I_"
      },
      "execution_count": 31,
      "outputs": []
    },
    {
      "cell_type": "code",
      "source": [
        "#2. Subset rows where the passenger is male (Sex is ”male”) and an adult (Age is greater than or equal\n",
        "#to 18), assigning this to adult males.\n",
        "adult_males = df[(df['Sex'] == 'male') & (df['Age'] >= 18)]\n",
        "print(adult_males.head())"
      ],
      "metadata": {
        "colab": {
          "base_uri": "https://localhost:8080/"
        },
        "id": "HGpqK3PNAxQx",
        "outputId": "7d8a825c-9483-41c5-e479-3d27a72b752c"
      },
      "execution_count": 30,
      "outputs": [
        {
          "output_type": "stream",
          "name": "stdout",
          "text": [
            "    PassengerId  Survived  Pclass                            Name   Sex   Age  \\\n",
            "0             1         0       3         Braund, Mr. Owen Harris  male  22.0   \n",
            "4             5         0       3        Allen, Mr. William Henry  male  35.0   \n",
            "5             6         0       3                Moran, Mr. James  male  28.0   \n",
            "6             7         0       1         McCarthy, Mr. Timothy J  male  54.0   \n",
            "12           13         0       3  Saundercock, Mr. William Henry  male  20.0   \n",
            "\n",
            "    SibSp  Parch     Ticket     Fare Cabin Embarked  Fare per Year  \\\n",
            "0       1      0  A/5 21171   7.2500   NaN        S       0.329545   \n",
            "4       0      0     373450   8.0500   NaN        S       0.230000   \n",
            "5       0      0     330877   8.4583   NaN        Q       0.302082   \n",
            "6       0      0      17463  51.8625   E46        S       0.960417   \n",
            "12      0      0  A/5. 2151   8.0500   NaN        S       0.402500   \n",
            "\n",
            "    Fare per Class  \n",
            "0         2.416667  \n",
            "4         2.683333  \n",
            "5         2.819433  \n",
            "6        51.862500  \n",
            "12        2.683333  \n"
          ]
        }
      ]
    },
    {
      "cell_type": "code",
      "source": [
        "#3. Sort adult males by descending fare per class, assigning this to adult males srt.\n",
        "adult_males_sr = adult_males.sort_values(by='Fare per Class', ascending=False)\n",
        "print(adult_males_sr.head())"
      ],
      "metadata": {
        "colab": {
          "base_uri": "https://localhost:8080/"
        },
        "id": "WgyyDebLBU-6",
        "outputId": "5d7f9e96-21b0-4a5c-b273-01c53464f758"
      },
      "execution_count": 34,
      "outputs": [
        {
          "output_type": "stream",
          "name": "stdout",
          "text": [
            "     PassengerId  Survived  Pclass                                Name   Sex  \\\n",
            "737          738         1       1              Lesurer, Mr. Gustave J  male   \n",
            "679          680         1       1  Cardeza, Mr. Thomas Drake Martinez  male   \n",
            "438          439         0       1                   Fortune, Mr. Mark  male   \n",
            "27            28         0       1      Fortune, Mr. Charles Alexander  male   \n",
            "118          119         0       1            Baxter, Mr. Quigg Edmond  male   \n",
            "\n",
            "      Age  SibSp  Parch    Ticket      Fare        Cabin Embarked  \\\n",
            "737  35.0      0      0  PC 17755  512.3292         B101        C   \n",
            "679  36.0      0      1  PC 17755  512.3292  B51 B53 B55        C   \n",
            "438  64.0      1      4     19950  263.0000  C23 C25 C27        S   \n",
            "27   19.0      3      2     19950  263.0000  C23 C25 C27        S   \n",
            "118  24.0      0      1  PC 17558  247.5208      B58 B60        C   \n",
            "\n",
            "     Fare per Year  Fare per Class  \n",
            "737      14.637977        512.3292  \n",
            "679      14.231367        512.3292  \n",
            "438       4.109375        263.0000  \n",
            "27       13.842105        263.0000  \n",
            "118      10.313367        247.5208  \n"
          ]
        }
      ]
    },
    {
      "cell_type": "code",
      "source": [
        "#4. Select only the Name, Age, and fare per class columns of adult males sr and save the result\n",
        "#as result.\n",
        "result = adult_males_sr[['Name', 'Age', 'Fare per Class']]\n",
        "print(result)"
      ],
      "metadata": {
        "colab": {
          "base_uri": "https://localhost:8080/"
        },
        "id": "8NtnzAbdBruQ",
        "outputId": "78076cfb-1950-4c4c-9fe4-87ba6d39d31a"
      },
      "execution_count": 35,
      "outputs": [
        {
          "output_type": "stream",
          "name": "stdout",
          "text": [
            "                                   Name   Age  Fare per Class\n",
            "737              Lesurer, Mr. Gustave J  35.0        512.3292\n",
            "679  Cardeza, Mr. Thomas Drake Martinez  36.0        512.3292\n",
            "438                   Fortune, Mr. Mark  64.0        263.0000\n",
            "27       Fortune, Mr. Charles Alexander  19.0        263.0000\n",
            "118            Baxter, Mr. Quigg Edmond  24.0        247.5208\n",
            "..                                  ...   ...             ...\n",
            "806              Andrews, Mr. Thomas Jr  39.0          0.0000\n",
            "481    Frost, Mr. Anthony Wood \"Archie\"  28.0          0.0000\n",
            "413      Cunningham, Mr. Alfred Fleming  28.0          0.0000\n",
            "466               Campbell, Mr. William  28.0          0.0000\n",
            "271        Tornquist, Mr. William Henry  25.0          0.0000\n",
            "\n",
            "[519 rows x 3 columns]\n"
          ]
        }
      ]
    },
    {
      "cell_type": "markdown",
      "source": [
        "3.3 Exploratory Data Analysis with Group-by Method Practice Exercise:\n",
        "\n",
        "What percent of the total fare revenue came from each passenger class?"
      ],
      "metadata": {
        "id": "WH3DcNr9CD6x"
      }
    },
    {
      "cell_type": "code",
      "source": [
        "#1. Calculate the total Fare paid across all passengers in the Titanic dataset.\n",
        "total_fare = df['Fare'].sum()\n",
        "print(total_fare)"
      ],
      "metadata": {
        "colab": {
          "base_uri": "https://localhost:8080/"
        },
        "id": "yf3n4sNlCO7m",
        "outputId": "16659667-8be8-456c-a1d3-f1c095d98dfb"
      },
      "execution_count": 36,
      "outputs": [
        {
          "output_type": "stream",
          "name": "stdout",
          "text": [
            "28693.9493\n"
          ]
        }
      ]
    },
    {
      "cell_type": "code",
      "source": [
        "#2. Subset for passengers in first class (Pclass is 1) and calculate their total fare.\n",
        "first_class_fare = df[df['Pclass'] == 1]['Fare'].sum()\n",
        "print(first_class_fare)"
      ],
      "metadata": {
        "colab": {
          "base_uri": "https://localhost:8080/"
        },
        "id": "3rSAcQ37C9Z1",
        "outputId": "5832b500-18e3-4ce4-9e34-797effd76bb8"
      },
      "execution_count": 37,
      "outputs": [
        {
          "output_type": "stream",
          "name": "stdout",
          "text": [
            "18177.4125\n"
          ]
        }
      ]
    },
    {
      "cell_type": "code",
      "source": [
        "#3. Do the same for second class (Pclass is 2) and third class (Pclass is 3).\n",
        "second_class_fare = df[df['Pclass'] == 2]['Fare'].sum()\n",
        "print(second_class_fare)"
      ],
      "metadata": {
        "colab": {
          "base_uri": "https://localhost:8080/"
        },
        "id": "nHPyJujdDGQb",
        "outputId": "735d8a8c-b60b-4bc9-b415-1778398a29f4"
      },
      "execution_count": 41,
      "outputs": [
        {
          "output_type": "stream",
          "name": "stdout",
          "text": [
            "3801.8417\n"
          ]
        }
      ]
    },
    {
      "cell_type": "code",
      "source": [
        "third_class_fare = df[df['Pclass'] == 3]['Fare'].sum()\n",
        "print(third_class_fare)"
      ],
      "metadata": {
        "colab": {
          "base_uri": "https://localhost:8080/"
        },
        "id": "jL2G1UVgDK2U",
        "outputId": "358e5f54-9e26-4878-a78d-bd0385963449"
      },
      "execution_count": 39,
      "outputs": [
        {
          "output_type": "stream",
          "name": "stdout",
          "text": [
            "6714.6951\n"
          ]
        }
      ]
    },
    {
      "cell_type": "code",
      "source": [
        "#4. Combine the fare totals from first, second, and third classes into a list.\n",
        "fare_totals = [first_class_fare, second_class_fare, third_class_fare]\n",
        "print(fare_totals)"
      ],
      "metadata": {
        "colab": {
          "base_uri": "https://localhost:8080/"
        },
        "id": "n8RcR8V5DcQs",
        "outputId": "a5f4ba8a-81c2-47a5-f096-86d322a6f1b1"
      },
      "execution_count": 42,
      "outputs": [
        {
          "output_type": "stream",
          "name": "stdout",
          "text": [
            "[18177.4125, 3801.8417, 6714.6951]\n"
          ]
        }
      ]
    },
    {
      "cell_type": "code",
      "source": [
        "#5. Divide the totals for each class by the overall total fare to get the proportion of fare revenue by class.\n",
        "first_class_percent = (first_class_fare / total_fare) * 100\n",
        "second_class_percent = (second_class_fare / total_fare) * 100\n",
        "third_class_percent = (third_class_fare / total_fare) * 100\n",
        "print(first_class_percent, second_class_percent, third_class_percent)"
      ],
      "metadata": {
        "colab": {
          "base_uri": "https://localhost:8080/"
        },
        "id": "SUvHwaPcDloD",
        "outputId": "eeca5f16-3824-4fe7-a0c7-f2be19573ec3"
      },
      "execution_count": 44,
      "outputs": [
        {
          "output_type": "stream",
          "name": "stdout",
          "text": [
            "63.349287718996564 13.24962855496507 23.401083726038365\n"
          ]
        }
      ]
    },
    {
      "cell_type": "markdown",
      "source": [
        "What percent of the total number of passengers on the Titanic belonged to each age group\n",
        "(e.g., child, adult, senior)?"
      ],
      "metadata": {
        "id": "mVXqSijgETAc"
      }
    },
    {
      "cell_type": "code",
      "source": [
        "#1. Create a new column, age group, that categorizes passengers into \"child\" (age < 18), \"adult\" (age\n",
        "# 18{64), and \"senior\" (age 65 and above).\n",
        "df['Age Group'] = ['child' if age < 18 else 'adult' if age < 65 else 'senior' for age in df['Age']]\n",
        "print(df[['Age Group']])"
      ],
      "metadata": {
        "colab": {
          "base_uri": "https://localhost:8080/"
        },
        "id": "q8CwTztzEgdr",
        "outputId": "47fc2a49-7ba6-4832-8812-9229f307f953"
      },
      "execution_count": 52,
      "outputs": [
        {
          "output_type": "stream",
          "name": "stdout",
          "text": [
            "    Age Group\n",
            "0       adult\n",
            "1       adult\n",
            "2       adult\n",
            "3       adult\n",
            "4       adult\n",
            "..        ...\n",
            "886     adult\n",
            "887     adult\n",
            "888     adult\n",
            "889     adult\n",
            "890     adult\n",
            "\n",
            "[891 rows x 1 columns]\n"
          ]
        }
      ]
    },
    {
      "cell_type": "code",
      "source": [
        "#2. Calculate the total number of passengers on the Titanic.\n",
        "total_passengers = df['Age'].count()\n",
        "print(total_passengers)"
      ],
      "metadata": {
        "colab": {
          "base_uri": "https://localhost:8080/"
        },
        "id": "GkNg6aobF9UN",
        "outputId": "0f158e3f-f22e-40f5-9ae7-68389cc8c765"
      },
      "execution_count": 53,
      "outputs": [
        {
          "output_type": "stream",
          "name": "stdout",
          "text": [
            "891\n"
          ]
        }
      ]
    },
    {
      "cell_type": "code",
      "source": [
        "#3. Count the number of passengers in each age group.\n",
        "age_group_counts = df['Age Group'].value_counts()\n",
        "print(age_group_counts)"
      ],
      "metadata": {
        "colab": {
          "base_uri": "https://localhost:8080/"
        },
        "id": "q6d8W-ygGHof",
        "outputId": "1b5f27ae-0bf5-49bd-bf70-f324a2989db3"
      },
      "execution_count": 54,
      "outputs": [
        {
          "output_type": "stream",
          "name": "stdout",
          "text": [
            "Age Group\n",
            "adult     767\n",
            "child     113\n",
            "senior     11\n",
            "Name: count, dtype: int64\n"
          ]
        }
      ]
    },
    {
      "cell_type": "code",
      "source": [
        "#4. Divide the count of each age group by the total number of passengers to get the proportion of passengers\n",
        "# in each age group.\n",
        "age_group_proportions = age_group_counts / total_passengers\n",
        "print(age_group_proportions)"
      ],
      "metadata": {
        "colab": {
          "base_uri": "https://localhost:8080/"
        },
        "id": "CBThMmibGRrp",
        "outputId": "abcd7dfb-9868-4297-d747-87ffc544e35e"
      },
      "execution_count": 59,
      "outputs": [
        {
          "output_type": "stream",
          "name": "stdout",
          "text": [
            "Age Group\n",
            "adult     0.860831\n",
            "child     0.126824\n",
            "senior    0.012346\n",
            "Name: count, dtype: float64\n"
          ]
        }
      ]
    },
    {
      "cell_type": "code",
      "source": [
        "#5. Display the proportion as a percentage.\n",
        "age_group_percentage = age_group_proportions * 100\n",
        "print(age_group_percentage)"
      ],
      "metadata": {
        "colab": {
          "base_uri": "https://localhost:8080/"
        },
        "id": "u1g5knc6GWgr",
        "outputId": "114f5233-0764-44eb-b530-18d3cdc7c330"
      },
      "execution_count": 60,
      "outputs": [
        {
          "output_type": "stream",
          "name": "stdout",
          "text": [
            "Age Group\n",
            "adult     86.083053\n",
            "child     12.682379\n",
            "senior     1.234568\n",
            "Name: count, dtype: float64\n"
          ]
        }
      ]
    }
  ]
}